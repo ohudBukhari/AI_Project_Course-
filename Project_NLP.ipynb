{
  "cells": [
    {
      "cell_type": "markdown",
      "metadata": {
        "id": "view-in-github",
        "colab_type": "text"
      },
      "source": [
        "<a href=\"https://colab.research.google.com/github/ohudBukhari/AI_Project_Course-/blob/main/Project_NLP.ipynb\" target=\"_parent\"><img src=\"https://colab.research.google.com/assets/colab-badge.svg\" alt=\"Open In Colab\"/></a>"
      ]
    },
    {
      "cell_type": "code",
      "execution_count": 3,
      "metadata": {
        "id": "KeHT7xokaQrq"
      },
      "outputs": [],
      "source": [
        "import numpy as np\n",
        "import pandas as pd\n",
        "import nltk as nltk"
      ]
    },
    {
      "cell_type": "markdown",
      "metadata": {
        "id": "ak0RdYaro1v4"
      },
      "source": [
        "Read dataset and store it in DataFrame"
      ]
    },
    {
      "cell_type": "code",
      "execution_count": 4,
      "metadata": {
        "colab": {
          "base_uri": "https://localhost:8080/",
          "height": 204
        },
        "id": "vC2SOVsnbyT-",
        "outputId": "3858bfad-a26c-4d69-fdfa-3fe5833f89df"
      },
      "outputs": [
        {
          "output_type": "execute_result",
          "data": {
            "text/plain": [
              "      label                                               text\n",
              "0     Mixed  هو بلا شك جدل لا ينتهي إلا ليبدأ، جدل يتصارع د...\n",
              "1  Negative  لم اكن قد قرأت نصف الرواية حين اشمأزيت من كثرة...\n",
              "2  Negative  لو ده يعتبر كتاب ، فأنا علي كده كتبت كتب كتيرة...\n",
              "3     Mixed  في ذلك الكتاب للرائع أحمد بهجت رحمة الله عليه ...\n",
              "4     Mixed  الانطباع العام: جيد لكن ليس كما توقعته. فيه قص..."
            ],
            "text/html": [
              "\n",
              "  <div id=\"df-3ba763f5-d748-4b11-bc56-c6346b9428cd\">\n",
              "    <div class=\"colab-df-container\">\n",
              "      <div>\n",
              "<style scoped>\n",
              "    .dataframe tbody tr th:only-of-type {\n",
              "        vertical-align: middle;\n",
              "    }\n",
              "\n",
              "    .dataframe tbody tr th {\n",
              "        vertical-align: top;\n",
              "    }\n",
              "\n",
              "    .dataframe thead th {\n",
              "        text-align: right;\n",
              "    }\n",
              "</style>\n",
              "<table border=\"1\" class=\"dataframe\">\n",
              "  <thead>\n",
              "    <tr style=\"text-align: right;\">\n",
              "      <th></th>\n",
              "      <th>label</th>\n",
              "      <th>text</th>\n",
              "    </tr>\n",
              "  </thead>\n",
              "  <tbody>\n",
              "    <tr>\n",
              "      <th>0</th>\n",
              "      <td>Mixed</td>\n",
              "      <td>هو بلا شك جدل لا ينتهي إلا ليبدأ، جدل يتصارع د...</td>\n",
              "    </tr>\n",
              "    <tr>\n",
              "      <th>1</th>\n",
              "      <td>Negative</td>\n",
              "      <td>لم اكن قد قرأت نصف الرواية حين اشمأزيت من كثرة...</td>\n",
              "    </tr>\n",
              "    <tr>\n",
              "      <th>2</th>\n",
              "      <td>Negative</td>\n",
              "      <td>لو ده يعتبر كتاب ، فأنا علي كده كتبت كتب كتيرة...</td>\n",
              "    </tr>\n",
              "    <tr>\n",
              "      <th>3</th>\n",
              "      <td>Mixed</td>\n",
              "      <td>في ذلك الكتاب للرائع أحمد بهجت رحمة الله عليه ...</td>\n",
              "    </tr>\n",
              "    <tr>\n",
              "      <th>4</th>\n",
              "      <td>Mixed</td>\n",
              "      <td>الانطباع العام: جيد لكن ليس كما توقعته. فيه قص...</td>\n",
              "    </tr>\n",
              "  </tbody>\n",
              "</table>\n",
              "</div>\n",
              "      <button class=\"colab-df-convert\" onclick=\"convertToInteractive('df-3ba763f5-d748-4b11-bc56-c6346b9428cd')\"\n",
              "              title=\"Convert this dataframe to an interactive table.\"\n",
              "              style=\"display:none;\">\n",
              "        \n",
              "  <svg xmlns=\"http://www.w3.org/2000/svg\" height=\"24px\"viewBox=\"0 0 24 24\"\n",
              "       width=\"24px\">\n",
              "    <path d=\"M0 0h24v24H0V0z\" fill=\"none\"/>\n",
              "    <path d=\"M18.56 5.44l.94 2.06.94-2.06 2.06-.94-2.06-.94-.94-2.06-.94 2.06-2.06.94zm-11 1L8.5 8.5l.94-2.06 2.06-.94-2.06-.94L8.5 2.5l-.94 2.06-2.06.94zm10 10l.94 2.06.94-2.06 2.06-.94-2.06-.94-.94-2.06-.94 2.06-2.06.94z\"/><path d=\"M17.41 7.96l-1.37-1.37c-.4-.4-.92-.59-1.43-.59-.52 0-1.04.2-1.43.59L10.3 9.45l-7.72 7.72c-.78.78-.78 2.05 0 2.83L4 21.41c.39.39.9.59 1.41.59.51 0 1.02-.2 1.41-.59l7.78-7.78 2.81-2.81c.8-.78.8-2.07 0-2.86zM5.41 20L4 18.59l7.72-7.72 1.47 1.35L5.41 20z\"/>\n",
              "  </svg>\n",
              "      </button>\n",
              "      \n",
              "  <style>\n",
              "    .colab-df-container {\n",
              "      display:flex;\n",
              "      flex-wrap:wrap;\n",
              "      gap: 12px;\n",
              "    }\n",
              "\n",
              "    .colab-df-convert {\n",
              "      background-color: #E8F0FE;\n",
              "      border: none;\n",
              "      border-radius: 50%;\n",
              "      cursor: pointer;\n",
              "      display: none;\n",
              "      fill: #1967D2;\n",
              "      height: 32px;\n",
              "      padding: 0 0 0 0;\n",
              "      width: 32px;\n",
              "    }\n",
              "\n",
              "    .colab-df-convert:hover {\n",
              "      background-color: #E2EBFA;\n",
              "      box-shadow: 0px 1px 2px rgba(60, 64, 67, 0.3), 0px 1px 3px 1px rgba(60, 64, 67, 0.15);\n",
              "      fill: #174EA6;\n",
              "    }\n",
              "\n",
              "    [theme=dark] .colab-df-convert {\n",
              "      background-color: #3B4455;\n",
              "      fill: #D2E3FC;\n",
              "    }\n",
              "\n",
              "    [theme=dark] .colab-df-convert:hover {\n",
              "      background-color: #434B5C;\n",
              "      box-shadow: 0px 1px 3px 1px rgba(0, 0, 0, 0.15);\n",
              "      filter: drop-shadow(0px 1px 2px rgba(0, 0, 0, 0.3));\n",
              "      fill: #FFFFFF;\n",
              "    }\n",
              "  </style>\n",
              "\n",
              "      <script>\n",
              "        const buttonEl =\n",
              "          document.querySelector('#df-3ba763f5-d748-4b11-bc56-c6346b9428cd button.colab-df-convert');\n",
              "        buttonEl.style.display =\n",
              "          google.colab.kernel.accessAllowed ? 'block' : 'none';\n",
              "\n",
              "        async function convertToInteractive(key) {\n",
              "          const element = document.querySelector('#df-3ba763f5-d748-4b11-bc56-c6346b9428cd');\n",
              "          const dataTable =\n",
              "            await google.colab.kernel.invokeFunction('convertToInteractive',\n",
              "                                                     [key], {});\n",
              "          if (!dataTable) return;\n",
              "\n",
              "          const docLinkHtml = 'Like what you see? Visit the ' +\n",
              "            '<a target=\"_blank\" href=https://colab.research.google.com/notebooks/data_table.ipynb>data table notebook</a>'\n",
              "            + ' to learn more about interactive tables.';\n",
              "          element.innerHTML = '';\n",
              "          dataTable['output_type'] = 'display_data';\n",
              "          await google.colab.output.renderOutput(dataTable, element);\n",
              "          const docLink = document.createElement('div');\n",
              "          docLink.innerHTML = docLinkHtml;\n",
              "          element.appendChild(docLink);\n",
              "        }\n",
              "      </script>\n",
              "    </div>\n",
              "  </div>\n",
              "  "
            ]
          },
          "metadata": {},
          "execution_count": 4
        }
      ],
      "source": [
        "reviews_df = pd.read_csv(\"/content/reduced_dataset.tsv\",sep='\\t')\n",
        "reviews_df.head(5)"
      ]
    },
    {
      "cell_type": "markdown",
      "metadata": {
        "id": "GQjy2yZZog4K"
      },
      "source": [
        "Choose only Books/Novels entries/Reduce dataset"
      ]
    },
    {
      "cell_type": "code",
      "execution_count": 5,
      "metadata": {
        "id": "BpJJFl48KzsO"
      },
      "outputs": [],
      "source": [
        "## Function for selecting books/novels reviews only\n",
        "\n",
        "from nltk.tree.tree import Nonterminal\n",
        "def books(text):\n",
        "  for i in text.split(\" \"):\n",
        "    if i in ['رواية','الرواية','كتاب','الكتاب','الكاتب','المؤلف','الحبكة']:\n",
        "      return text\n",
        "  return None"
      ]
    },
    {
      "cell_type": "code",
      "execution_count": 6,
      "metadata": {
        "colab": {
          "base_uri": "https://localhost:8080/",
          "height": 359
        },
        "id": "AGy6qE-1De3D",
        "outputId": "30be341b-2f2a-4d96-eb4f-b1ca2213c0f4"
      },
      "outputs": [
        {
          "output_type": "execute_result",
          "data": {
            "text/plain": [
              "      label                                               text\n",
              "0     Mixed  هو بلا شك جدل لا ينتهي إلا ليبدأ، جدل يتصارع د...\n",
              "1  Negative  لم اكن قد قرأت نصف الرواية حين اشمأزيت من كثرة...\n",
              "2  Negative  لو ده يعتبر كتاب ، فأنا علي كده كتبت كتب كتيرة...\n",
              "3     Mixed  في ذلك الكتاب للرائع أحمد بهجت رحمة الله عليه ...\n",
              "4     Mixed  الانطباع العام: جيد لكن ليس كما توقعته. فيه قص...\n",
              "5  Negative  تتلخص فكرة الكتاب في ان هناك ثلاثة نقاط تجتمع ...\n",
              "6  Negative  مستوى الكتاب أقل بكثير من المتوقع من الدكتور ج...\n",
              "7  Positive  لقد فتحت الرواية خزائن مشاعر آثرت أن أواريها م...\n",
              "8  Negative  مستفزة لأبعد الحدود. معلش كبداية فين علامات ال...\n",
              "9  Negative  سأعترف أني لم أنهي هذا الكتاب وتوقفت بعد قراءة..."
            ],
            "text/html": [
              "\n",
              "  <div id=\"df-a43a29ba-aa42-4cbf-ae42-4e4ecacbf19e\">\n",
              "    <div class=\"colab-df-container\">\n",
              "      <div>\n",
              "<style scoped>\n",
              "    .dataframe tbody tr th:only-of-type {\n",
              "        vertical-align: middle;\n",
              "    }\n",
              "\n",
              "    .dataframe tbody tr th {\n",
              "        vertical-align: top;\n",
              "    }\n",
              "\n",
              "    .dataframe thead th {\n",
              "        text-align: right;\n",
              "    }\n",
              "</style>\n",
              "<table border=\"1\" class=\"dataframe\">\n",
              "  <thead>\n",
              "    <tr style=\"text-align: right;\">\n",
              "      <th></th>\n",
              "      <th>label</th>\n",
              "      <th>text</th>\n",
              "    </tr>\n",
              "  </thead>\n",
              "  <tbody>\n",
              "    <tr>\n",
              "      <th>0</th>\n",
              "      <td>Mixed</td>\n",
              "      <td>هو بلا شك جدل لا ينتهي إلا ليبدأ، جدل يتصارع د...</td>\n",
              "    </tr>\n",
              "    <tr>\n",
              "      <th>1</th>\n",
              "      <td>Negative</td>\n",
              "      <td>لم اكن قد قرأت نصف الرواية حين اشمأزيت من كثرة...</td>\n",
              "    </tr>\n",
              "    <tr>\n",
              "      <th>2</th>\n",
              "      <td>Negative</td>\n",
              "      <td>لو ده يعتبر كتاب ، فأنا علي كده كتبت كتب كتيرة...</td>\n",
              "    </tr>\n",
              "    <tr>\n",
              "      <th>3</th>\n",
              "      <td>Mixed</td>\n",
              "      <td>في ذلك الكتاب للرائع أحمد بهجت رحمة الله عليه ...</td>\n",
              "    </tr>\n",
              "    <tr>\n",
              "      <th>4</th>\n",
              "      <td>Mixed</td>\n",
              "      <td>الانطباع العام: جيد لكن ليس كما توقعته. فيه قص...</td>\n",
              "    </tr>\n",
              "    <tr>\n",
              "      <th>5</th>\n",
              "      <td>Negative</td>\n",
              "      <td>تتلخص فكرة الكتاب في ان هناك ثلاثة نقاط تجتمع ...</td>\n",
              "    </tr>\n",
              "    <tr>\n",
              "      <th>6</th>\n",
              "      <td>Negative</td>\n",
              "      <td>مستوى الكتاب أقل بكثير من المتوقع من الدكتور ج...</td>\n",
              "    </tr>\n",
              "    <tr>\n",
              "      <th>7</th>\n",
              "      <td>Positive</td>\n",
              "      <td>لقد فتحت الرواية خزائن مشاعر آثرت أن أواريها م...</td>\n",
              "    </tr>\n",
              "    <tr>\n",
              "      <th>8</th>\n",
              "      <td>Negative</td>\n",
              "      <td>مستفزة لأبعد الحدود. معلش كبداية فين علامات ال...</td>\n",
              "    </tr>\n",
              "    <tr>\n",
              "      <th>9</th>\n",
              "      <td>Negative</td>\n",
              "      <td>سأعترف أني لم أنهي هذا الكتاب وتوقفت بعد قراءة...</td>\n",
              "    </tr>\n",
              "  </tbody>\n",
              "</table>\n",
              "</div>\n",
              "      <button class=\"colab-df-convert\" onclick=\"convertToInteractive('df-a43a29ba-aa42-4cbf-ae42-4e4ecacbf19e')\"\n",
              "              title=\"Convert this dataframe to an interactive table.\"\n",
              "              style=\"display:none;\">\n",
              "        \n",
              "  <svg xmlns=\"http://www.w3.org/2000/svg\" height=\"24px\"viewBox=\"0 0 24 24\"\n",
              "       width=\"24px\">\n",
              "    <path d=\"M0 0h24v24H0V0z\" fill=\"none\"/>\n",
              "    <path d=\"M18.56 5.44l.94 2.06.94-2.06 2.06-.94-2.06-.94-.94-2.06-.94 2.06-2.06.94zm-11 1L8.5 8.5l.94-2.06 2.06-.94-2.06-.94L8.5 2.5l-.94 2.06-2.06.94zm10 10l.94 2.06.94-2.06 2.06-.94-2.06-.94-.94-2.06-.94 2.06-2.06.94z\"/><path d=\"M17.41 7.96l-1.37-1.37c-.4-.4-.92-.59-1.43-.59-.52 0-1.04.2-1.43.59L10.3 9.45l-7.72 7.72c-.78.78-.78 2.05 0 2.83L4 21.41c.39.39.9.59 1.41.59.51 0 1.02-.2 1.41-.59l7.78-7.78 2.81-2.81c.8-.78.8-2.07 0-2.86zM5.41 20L4 18.59l7.72-7.72 1.47 1.35L5.41 20z\"/>\n",
              "  </svg>\n",
              "      </button>\n",
              "      \n",
              "  <style>\n",
              "    .colab-df-container {\n",
              "      display:flex;\n",
              "      flex-wrap:wrap;\n",
              "      gap: 12px;\n",
              "    }\n",
              "\n",
              "    .colab-df-convert {\n",
              "      background-color: #E8F0FE;\n",
              "      border: none;\n",
              "      border-radius: 50%;\n",
              "      cursor: pointer;\n",
              "      display: none;\n",
              "      fill: #1967D2;\n",
              "      height: 32px;\n",
              "      padding: 0 0 0 0;\n",
              "      width: 32px;\n",
              "    }\n",
              "\n",
              "    .colab-df-convert:hover {\n",
              "      background-color: #E2EBFA;\n",
              "      box-shadow: 0px 1px 2px rgba(60, 64, 67, 0.3), 0px 1px 3px 1px rgba(60, 64, 67, 0.15);\n",
              "      fill: #174EA6;\n",
              "    }\n",
              "\n",
              "    [theme=dark] .colab-df-convert {\n",
              "      background-color: #3B4455;\n",
              "      fill: #D2E3FC;\n",
              "    }\n",
              "\n",
              "    [theme=dark] .colab-df-convert:hover {\n",
              "      background-color: #434B5C;\n",
              "      box-shadow: 0px 1px 3px 1px rgba(0, 0, 0, 0.15);\n",
              "      filter: drop-shadow(0px 1px 2px rgba(0, 0, 0, 0.3));\n",
              "      fill: #FFFFFF;\n",
              "    }\n",
              "  </style>\n",
              "\n",
              "      <script>\n",
              "        const buttonEl =\n",
              "          document.querySelector('#df-a43a29ba-aa42-4cbf-ae42-4e4ecacbf19e button.colab-df-convert');\n",
              "        buttonEl.style.display =\n",
              "          google.colab.kernel.accessAllowed ? 'block' : 'none';\n",
              "\n",
              "        async function convertToInteractive(key) {\n",
              "          const element = document.querySelector('#df-a43a29ba-aa42-4cbf-ae42-4e4ecacbf19e');\n",
              "          const dataTable =\n",
              "            await google.colab.kernel.invokeFunction('convertToInteractive',\n",
              "                                                     [key], {});\n",
              "          if (!dataTable) return;\n",
              "\n",
              "          const docLinkHtml = 'Like what you see? Visit the ' +\n",
              "            '<a target=\"_blank\" href=https://colab.research.google.com/notebooks/data_table.ipynb>data table notebook</a>'\n",
              "            + ' to learn more about interactive tables.';\n",
              "          element.innerHTML = '';\n",
              "          dataTable['output_type'] = 'display_data';\n",
              "          await google.colab.output.renderOutput(dataTable, element);\n",
              "          const docLink = document.createElement('div');\n",
              "          docLink.innerHTML = docLinkHtml;\n",
              "          element.appendChild(docLink);\n",
              "        }\n",
              "      </script>\n",
              "    </div>\n",
              "  </div>\n",
              "  "
            ]
          },
          "metadata": {},
          "execution_count": 6
        }
      ],
      "source": [
        "## remove all the None rows from reviews_df\n",
        "reviews_df['text']=reviews_df['text'].apply(lambda x: books(x))\n",
        "reviews_df = reviews_df.dropna(axis = 0)\n",
        "reviews_df.reset_index()\n",
        "reviews_df.head(10)"
      ]
    },
    {
      "cell_type": "code",
      "execution_count": 7,
      "metadata": {
        "colab": {
          "base_uri": "https://localhost:8080/",
          "height": 69
        },
        "id": "iob0yx2049sS",
        "outputId": "5843f04c-74dc-4c50-fca7-0e0e49923245"
      },
      "outputs": [
        {
          "output_type": "execute_result",
          "data": {
            "text/plain": [
              "'## Reducing the size of the dataset since the Lemmatize function takes too long\\n# Create a new dataframe with the minimum number of rows for each label\\nreduced_df = reviews_df.sample(frac=0.13)\\nreviews_df = reduced_df\\n# Save the reduced dataframe\\nreduced_df.to_csv(\"reduced_dataset.csv\", index=False)\\n'"
            ],
            "application/vnd.google.colaboratory.intrinsic+json": {
              "type": "string"
            }
          },
          "metadata": {},
          "execution_count": 7
        }
      ],
      "source": [
        "'''## Reducing the size of the dataset since the Lemmatize function takes too long\n",
        "# Create a new dataframe with the minimum number of rows for each label\n",
        "reduced_df = reviews_df.sample(frac=0.13)\n",
        "reviews_df = reduced_df\n",
        "# Save the reduced dataframe\n",
        "reduced_df.to_csv(\"reduced_dataset.csv\", index=False)\n",
        "'''"
      ]
    },
    {
      "cell_type": "markdown",
      "metadata": {
        "id": "W-f2ZI-FpB7q"
      },
      "source": [
        "Dataset Info/Statistcs "
      ]
    },
    {
      "cell_type": "code",
      "execution_count": 8,
      "metadata": {
        "colab": {
          "base_uri": "https://localhost:8080/",
          "height": 204
        },
        "id": "WsCzB4VUche3",
        "outputId": "cfeea3d7-fc11-4150-be88-f11b098da9cf"
      },
      "outputs": [
        {
          "output_type": "execute_result",
          "data": {
            "text/plain": [
              "         label                                               text\n",
              "1022     Mixed  لم أعرف رواية أربكتنى بعدد نجومها التى تستحق ك...\n",
              "1023  Negative  أن تقرأ كتابا بدافع الفضول مع التسليم التام بأ...\n",
              "1024  Negative  ايه دا فلم مصري ولا ايه = =. اول مرة بقرأ لنجي...\n",
              "1025  Positive  تنهى القراءة و تود لو أنك تبدأها من جديد ، تود...\n",
              "1026  Positive  كتاب رائع ينصح بقرائته . .. كتب في فترة قبل نش..."
            ],
            "text/html": [
              "\n",
              "  <div id=\"df-bd0a8ae5-f29f-4dd6-ac5d-654208f46ae3\">\n",
              "    <div class=\"colab-df-container\">\n",
              "      <div>\n",
              "<style scoped>\n",
              "    .dataframe tbody tr th:only-of-type {\n",
              "        vertical-align: middle;\n",
              "    }\n",
              "\n",
              "    .dataframe tbody tr th {\n",
              "        vertical-align: top;\n",
              "    }\n",
              "\n",
              "    .dataframe thead th {\n",
              "        text-align: right;\n",
              "    }\n",
              "</style>\n",
              "<table border=\"1\" class=\"dataframe\">\n",
              "  <thead>\n",
              "    <tr style=\"text-align: right;\">\n",
              "      <th></th>\n",
              "      <th>label</th>\n",
              "      <th>text</th>\n",
              "    </tr>\n",
              "  </thead>\n",
              "  <tbody>\n",
              "    <tr>\n",
              "      <th>1022</th>\n",
              "      <td>Mixed</td>\n",
              "      <td>لم أعرف رواية أربكتنى بعدد نجومها التى تستحق ك...</td>\n",
              "    </tr>\n",
              "    <tr>\n",
              "      <th>1023</th>\n",
              "      <td>Negative</td>\n",
              "      <td>أن تقرأ كتابا بدافع الفضول مع التسليم التام بأ...</td>\n",
              "    </tr>\n",
              "    <tr>\n",
              "      <th>1024</th>\n",
              "      <td>Negative</td>\n",
              "      <td>ايه دا فلم مصري ولا ايه = =. اول مرة بقرأ لنجي...</td>\n",
              "    </tr>\n",
              "    <tr>\n",
              "      <th>1025</th>\n",
              "      <td>Positive</td>\n",
              "      <td>تنهى القراءة و تود لو أنك تبدأها من جديد ، تود...</td>\n",
              "    </tr>\n",
              "    <tr>\n",
              "      <th>1026</th>\n",
              "      <td>Positive</td>\n",
              "      <td>كتاب رائع ينصح بقرائته . .. كتب في فترة قبل نش...</td>\n",
              "    </tr>\n",
              "  </tbody>\n",
              "</table>\n",
              "</div>\n",
              "      <button class=\"colab-df-convert\" onclick=\"convertToInteractive('df-bd0a8ae5-f29f-4dd6-ac5d-654208f46ae3')\"\n",
              "              title=\"Convert this dataframe to an interactive table.\"\n",
              "              style=\"display:none;\">\n",
              "        \n",
              "  <svg xmlns=\"http://www.w3.org/2000/svg\" height=\"24px\"viewBox=\"0 0 24 24\"\n",
              "       width=\"24px\">\n",
              "    <path d=\"M0 0h24v24H0V0z\" fill=\"none\"/>\n",
              "    <path d=\"M18.56 5.44l.94 2.06.94-2.06 2.06-.94-2.06-.94-.94-2.06-.94 2.06-2.06.94zm-11 1L8.5 8.5l.94-2.06 2.06-.94-2.06-.94L8.5 2.5l-.94 2.06-2.06.94zm10 10l.94 2.06.94-2.06 2.06-.94-2.06-.94-.94-2.06-.94 2.06-2.06.94z\"/><path d=\"M17.41 7.96l-1.37-1.37c-.4-.4-.92-.59-1.43-.59-.52 0-1.04.2-1.43.59L10.3 9.45l-7.72 7.72c-.78.78-.78 2.05 0 2.83L4 21.41c.39.39.9.59 1.41.59.51 0 1.02-.2 1.41-.59l7.78-7.78 2.81-2.81c.8-.78.8-2.07 0-2.86zM5.41 20L4 18.59l7.72-7.72 1.47 1.35L5.41 20z\"/>\n",
              "  </svg>\n",
              "      </button>\n",
              "      \n",
              "  <style>\n",
              "    .colab-df-container {\n",
              "      display:flex;\n",
              "      flex-wrap:wrap;\n",
              "      gap: 12px;\n",
              "    }\n",
              "\n",
              "    .colab-df-convert {\n",
              "      background-color: #E8F0FE;\n",
              "      border: none;\n",
              "      border-radius: 50%;\n",
              "      cursor: pointer;\n",
              "      display: none;\n",
              "      fill: #1967D2;\n",
              "      height: 32px;\n",
              "      padding: 0 0 0 0;\n",
              "      width: 32px;\n",
              "    }\n",
              "\n",
              "    .colab-df-convert:hover {\n",
              "      background-color: #E2EBFA;\n",
              "      box-shadow: 0px 1px 2px rgba(60, 64, 67, 0.3), 0px 1px 3px 1px rgba(60, 64, 67, 0.15);\n",
              "      fill: #174EA6;\n",
              "    }\n",
              "\n",
              "    [theme=dark] .colab-df-convert {\n",
              "      background-color: #3B4455;\n",
              "      fill: #D2E3FC;\n",
              "    }\n",
              "\n",
              "    [theme=dark] .colab-df-convert:hover {\n",
              "      background-color: #434B5C;\n",
              "      box-shadow: 0px 1px 3px 1px rgba(0, 0, 0, 0.15);\n",
              "      filter: drop-shadow(0px 1px 2px rgba(0, 0, 0, 0.3));\n",
              "      fill: #FFFFFF;\n",
              "    }\n",
              "  </style>\n",
              "\n",
              "      <script>\n",
              "        const buttonEl =\n",
              "          document.querySelector('#df-bd0a8ae5-f29f-4dd6-ac5d-654208f46ae3 button.colab-df-convert');\n",
              "        buttonEl.style.display =\n",
              "          google.colab.kernel.accessAllowed ? 'block' : 'none';\n",
              "\n",
              "        async function convertToInteractive(key) {\n",
              "          const element = document.querySelector('#df-bd0a8ae5-f29f-4dd6-ac5d-654208f46ae3');\n",
              "          const dataTable =\n",
              "            await google.colab.kernel.invokeFunction('convertToInteractive',\n",
              "                                                     [key], {});\n",
              "          if (!dataTable) return;\n",
              "\n",
              "          const docLinkHtml = 'Like what you see? Visit the ' +\n",
              "            '<a target=\"_blank\" href=https://colab.research.google.com/notebooks/data_table.ipynb>data table notebook</a>'\n",
              "            + ' to learn more about interactive tables.';\n",
              "          element.innerHTML = '';\n",
              "          dataTable['output_type'] = 'display_data';\n",
              "          await google.colab.output.renderOutput(dataTable, element);\n",
              "          const docLink = document.createElement('div');\n",
              "          docLink.innerHTML = docLinkHtml;\n",
              "          element.appendChild(docLink);\n",
              "        }\n",
              "      </script>\n",
              "    </div>\n",
              "  </div>\n",
              "  "
            ]
          },
          "metadata": {},
          "execution_count": 8
        }
      ],
      "source": [
        "reviews_df.tail()"
      ]
    },
    {
      "cell_type": "code",
      "execution_count": 9,
      "metadata": {
        "colab": {
          "base_uri": "https://localhost:8080/"
        },
        "id": "xmwniULt3Sb4",
        "outputId": "762ae48d-6515-460b-b3d0-05ed0f226c9e"
      },
      "outputs": [
        {
          "output_type": "execute_result",
          "data": {
            "text/plain": [
              "(1027, 2)"
            ]
          },
          "metadata": {},
          "execution_count": 9
        }
      ],
      "source": [
        "reviews_df.shape"
      ]
    },
    {
      "cell_type": "code",
      "execution_count": 10,
      "metadata": {
        "colab": {
          "base_uri": "https://localhost:8080/"
        },
        "id": "IVBguR-tcx1_",
        "outputId": "7c0f7425-f2b5-410a-868d-3fe0c58cf5d5"
      },
      "outputs": [
        {
          "output_type": "stream",
          "name": "stdout",
          "text": [
            "<class 'pandas.core.frame.DataFrame'>\n",
            "Int64Index: 1027 entries, 0 to 1026\n",
            "Data columns (total 2 columns):\n",
            " #   Column  Non-Null Count  Dtype \n",
            "---  ------  --------------  ----- \n",
            " 0   label   1027 non-null   object\n",
            " 1   text    1027 non-null   object\n",
            "dtypes: object(2)\n",
            "memory usage: 24.1+ KB\n"
          ]
        }
      ],
      "source": [
        "reviews_df.info()"
      ]
    },
    {
      "cell_type": "code",
      "execution_count": 11,
      "metadata": {
        "colab": {
          "base_uri": "https://localhost:8080/",
          "height": 173
        },
        "id": "aU5ciO2cdGHQ",
        "outputId": "50e224ad-a80b-4c3e-aae0-6511b5d42372"
      },
      "outputs": [
        {
          "output_type": "execute_result",
          "data": {
            "text/plain": [
              "           label                                               text\n",
              "count       1027                                               1027\n",
              "unique         3                                               1027\n",
              "top     Negative  هو بلا شك جدل لا ينتهي إلا ليبدأ، جدل يتصارع د...\n",
              "freq         351                                                  1"
            ],
            "text/html": [
              "\n",
              "  <div id=\"df-70dba929-3efd-4fba-8d35-14dba3f9861d\">\n",
              "    <div class=\"colab-df-container\">\n",
              "      <div>\n",
              "<style scoped>\n",
              "    .dataframe tbody tr th:only-of-type {\n",
              "        vertical-align: middle;\n",
              "    }\n",
              "\n",
              "    .dataframe tbody tr th {\n",
              "        vertical-align: top;\n",
              "    }\n",
              "\n",
              "    .dataframe thead th {\n",
              "        text-align: right;\n",
              "    }\n",
              "</style>\n",
              "<table border=\"1\" class=\"dataframe\">\n",
              "  <thead>\n",
              "    <tr style=\"text-align: right;\">\n",
              "      <th></th>\n",
              "      <th>label</th>\n",
              "      <th>text</th>\n",
              "    </tr>\n",
              "  </thead>\n",
              "  <tbody>\n",
              "    <tr>\n",
              "      <th>count</th>\n",
              "      <td>1027</td>\n",
              "      <td>1027</td>\n",
              "    </tr>\n",
              "    <tr>\n",
              "      <th>unique</th>\n",
              "      <td>3</td>\n",
              "      <td>1027</td>\n",
              "    </tr>\n",
              "    <tr>\n",
              "      <th>top</th>\n",
              "      <td>Negative</td>\n",
              "      <td>هو بلا شك جدل لا ينتهي إلا ليبدأ، جدل يتصارع د...</td>\n",
              "    </tr>\n",
              "    <tr>\n",
              "      <th>freq</th>\n",
              "      <td>351</td>\n",
              "      <td>1</td>\n",
              "    </tr>\n",
              "  </tbody>\n",
              "</table>\n",
              "</div>\n",
              "      <button class=\"colab-df-convert\" onclick=\"convertToInteractive('df-70dba929-3efd-4fba-8d35-14dba3f9861d')\"\n",
              "              title=\"Convert this dataframe to an interactive table.\"\n",
              "              style=\"display:none;\">\n",
              "        \n",
              "  <svg xmlns=\"http://www.w3.org/2000/svg\" height=\"24px\"viewBox=\"0 0 24 24\"\n",
              "       width=\"24px\">\n",
              "    <path d=\"M0 0h24v24H0V0z\" fill=\"none\"/>\n",
              "    <path d=\"M18.56 5.44l.94 2.06.94-2.06 2.06-.94-2.06-.94-.94-2.06-.94 2.06-2.06.94zm-11 1L8.5 8.5l.94-2.06 2.06-.94-2.06-.94L8.5 2.5l-.94 2.06-2.06.94zm10 10l.94 2.06.94-2.06 2.06-.94-2.06-.94-.94-2.06-.94 2.06-2.06.94z\"/><path d=\"M17.41 7.96l-1.37-1.37c-.4-.4-.92-.59-1.43-.59-.52 0-1.04.2-1.43.59L10.3 9.45l-7.72 7.72c-.78.78-.78 2.05 0 2.83L4 21.41c.39.39.9.59 1.41.59.51 0 1.02-.2 1.41-.59l7.78-7.78 2.81-2.81c.8-.78.8-2.07 0-2.86zM5.41 20L4 18.59l7.72-7.72 1.47 1.35L5.41 20z\"/>\n",
              "  </svg>\n",
              "      </button>\n",
              "      \n",
              "  <style>\n",
              "    .colab-df-container {\n",
              "      display:flex;\n",
              "      flex-wrap:wrap;\n",
              "      gap: 12px;\n",
              "    }\n",
              "\n",
              "    .colab-df-convert {\n",
              "      background-color: #E8F0FE;\n",
              "      border: none;\n",
              "      border-radius: 50%;\n",
              "      cursor: pointer;\n",
              "      display: none;\n",
              "      fill: #1967D2;\n",
              "      height: 32px;\n",
              "      padding: 0 0 0 0;\n",
              "      width: 32px;\n",
              "    }\n",
              "\n",
              "    .colab-df-convert:hover {\n",
              "      background-color: #E2EBFA;\n",
              "      box-shadow: 0px 1px 2px rgba(60, 64, 67, 0.3), 0px 1px 3px 1px rgba(60, 64, 67, 0.15);\n",
              "      fill: #174EA6;\n",
              "    }\n",
              "\n",
              "    [theme=dark] .colab-df-convert {\n",
              "      background-color: #3B4455;\n",
              "      fill: #D2E3FC;\n",
              "    }\n",
              "\n",
              "    [theme=dark] .colab-df-convert:hover {\n",
              "      background-color: #434B5C;\n",
              "      box-shadow: 0px 1px 3px 1px rgba(0, 0, 0, 0.15);\n",
              "      filter: drop-shadow(0px 1px 2px rgba(0, 0, 0, 0.3));\n",
              "      fill: #FFFFFF;\n",
              "    }\n",
              "  </style>\n",
              "\n",
              "      <script>\n",
              "        const buttonEl =\n",
              "          document.querySelector('#df-70dba929-3efd-4fba-8d35-14dba3f9861d button.colab-df-convert');\n",
              "        buttonEl.style.display =\n",
              "          google.colab.kernel.accessAllowed ? 'block' : 'none';\n",
              "\n",
              "        async function convertToInteractive(key) {\n",
              "          const element = document.querySelector('#df-70dba929-3efd-4fba-8d35-14dba3f9861d');\n",
              "          const dataTable =\n",
              "            await google.colab.kernel.invokeFunction('convertToInteractive',\n",
              "                                                     [key], {});\n",
              "          if (!dataTable) return;\n",
              "\n",
              "          const docLinkHtml = 'Like what you see? Visit the ' +\n",
              "            '<a target=\"_blank\" href=https://colab.research.google.com/notebooks/data_table.ipynb>data table notebook</a>'\n",
              "            + ' to learn more about interactive tables.';\n",
              "          element.innerHTML = '';\n",
              "          dataTable['output_type'] = 'display_data';\n",
              "          await google.colab.output.renderOutput(dataTable, element);\n",
              "          const docLink = document.createElement('div');\n",
              "          docLink.innerHTML = docLinkHtml;\n",
              "          element.appendChild(docLink);\n",
              "        }\n",
              "      </script>\n",
              "    </div>\n",
              "  </div>\n",
              "  "
            ]
          },
          "metadata": {},
          "execution_count": 11
        }
      ],
      "source": [
        "reviews_df.describe()"
      ]
    },
    {
      "cell_type": "code",
      "execution_count": 12,
      "metadata": {
        "colab": {
          "base_uri": "https://localhost:8080/"
        },
        "id": "RU4aBoLbdLge",
        "outputId": "5c7cee63-4710-4eb2-c408-5112e6afd630"
      },
      "outputs": [
        {
          "output_type": "execute_result",
          "data": {
            "text/plain": [
              "Negative    351\n",
              "Mixed       344\n",
              "Positive    332\n",
              "Name: label, dtype: int64"
            ]
          },
          "metadata": {},
          "execution_count": 12
        }
      ],
      "source": [
        "reviews_df.label.value_counts()"
      ]
    },
    {
      "cell_type": "code",
      "execution_count": 13,
      "metadata": {
        "colab": {
          "base_uri": "https://localhost:8080/"
        },
        "id": "ZjOqvgsodW4F",
        "outputId": "3dbdf345-8549-4059-f655-df4ae0aa1ac9"
      },
      "outputs": [
        {
          "output_type": "execute_result",
          "data": {
            "text/plain": [
              "Negative    0.341772\n",
              "Mixed       0.334956\n",
              "Positive    0.323272\n",
              "Name: label, dtype: float64"
            ]
          },
          "metadata": {},
          "execution_count": 13
        }
      ],
      "source": [
        "reviews_df.label.value_counts(normalize=True)"
      ]
    },
    {
      "cell_type": "code",
      "execution_count": 14,
      "metadata": {
        "colab": {
          "base_uri": "https://localhost:8080/",
          "height": 423
        },
        "id": "kRdnbGqldfgq",
        "outputId": "0ea37112-7e2b-44ae-adfe-ca16f49b9736"
      },
      "outputs": [
        {
          "output_type": "execute_result",
          "data": {
            "text/plain": [
              "<Axes: ylabel='label'>"
            ]
          },
          "metadata": {},
          "execution_count": 14
        },
        {
          "output_type": "display_data",
          "data": {
            "text/plain": [
              "<Figure size 640x480 with 1 Axes>"
            ],
            "image/png": "[encoded data removed]"
          },
          "metadata": {}
        }
      ],
      "source": [
        "reviews_df.label.value_counts(normalize=True).plot.pie()"
      ]
    },
    {
      "cell_type": "code",
      "execution_count": 15,
      "metadata": {
        "colab": {
          "base_uri": "https://localhost:8080/"
        },
        "id": "vhRKBtAkdzYv",
        "outputId": "99d9c1cf-0846-4076-8e98-69aa54008315"
      },
      "outputs": [
        {
          "output_type": "execute_result",
          "data": {
            "text/plain": [
              "label  text \n",
              "False  False    1027\n",
              "dtype: int64"
            ]
          },
          "metadata": {},
          "execution_count": 15
        }
      ],
      "source": [
        "reviews_df.isnull().value_counts()"
      ]
    },
    {
      "cell_type": "code",
      "execution_count": 16,
      "metadata": {
        "id": "Xv46IGS7d9W6"
      },
      "outputs": [],
      "source": [
        "df=reviews_df.copy()"
      ]
    },
    {
      "cell_type": "markdown",
      "metadata": {
        "id": "igkSUvrK8bCi"
      },
      "source": [
        "Second Phase"
      ]
    },
    {
      "cell_type": "markdown",
      "metadata": {
        "id": "U1PD2hVj9MIq"
      },
      "source": [
        "1.Removing punctuation,Standardisation"
      ]
    },
    {
      "cell_type": "code",
      "execution_count": 17,
      "metadata": {
        "colab": {
          "base_uri": "https://localhost:8080/",
          "height": 35
        },
        "id": "J4MTyf71Lzn2",
        "outputId": "8c7ae337-e767-47b4-8921-047bdf45dfd4"
      },
      "outputs": [
        {
          "output_type": "execute_result",
          "data": {
            "text/plain": [
              "'!\"#$%&\\'()*+,-./:;<=>?@[\\\\]^_`{|}~'"
            ],
            "application/vnd.google.colaboratory.intrinsic+json": {
              "type": "string"
            }
          },
          "metadata": {},
          "execution_count": 17
        }
      ],
      "source": [
        "import string\n",
        "string.punctuation"
      ]
    },
    {
      "cell_type": "code",
      "execution_count": 18,
      "metadata": {
        "id": "68KBjk3ALz_c"
      },
      "outputs": [],
      "source": [
        "def remove_punct(text):\n",
        "    punc= string.punctuation+\"؟،“”؛\"\n",
        "    text_no_punct=\"\".join([char for char in text if char not in punc])\n",
        "    return text_no_punct"
      ]
    },
    {
      "cell_type": "code",
      "execution_count": 19,
      "metadata": {
        "id": "4eKaoIfZL0N0"
      },
      "outputs": [],
      "source": [
        "reviews_df['text_no_punct']=reviews_df['text'].apply(lambda x: remove_punct(x))"
      ]
    },
    {
      "cell_type": "markdown",
      "metadata": {
        "id": "mK7qIYVPiqHt"
      },
      "source": [
        "2.Tokenization using: 1- regex and split   2- NLTK"
      ]
    },
    {
      "cell_type": "code",
      "execution_count": 20,
      "metadata": {
        "colab": {
          "base_uri": "https://localhost:8080/"
        },
        "id": "qy-9uJ0DQ6L5",
        "outputId": "d11ac663-d160-4004-ecc9-778541469a47"
      },
      "outputs": [
        {
          "output_type": "stream",
          "name": "stderr",
          "text": [
            "[nltk_data] Downloading package punkt to /root/nltk_data...\n",
            "[nltk_data]   Unzipping tokenizers/punkt.zip.\n"
          ]
        }
      ],
      "source": [
        "#Tokeniziation (White-Spaceing)\n",
        "nltk.download('punkt')\n",
        "from nltk.tokenize import word_tokenize"
      ]
    },
    {
      "cell_type": "code",
      "execution_count": 21,
      "metadata": {
        "id": "Zi2E5pKA_497"
      },
      "outputs": [],
      "source": [
        "reviews_df['text_tokenize']=reviews_df['text'].apply(lambda x: word_tokenize(x))"
      ]
    },
    {
      "cell_type": "code",
      "execution_count": 22,
      "metadata": {
        "id": "_-qPv9EkzyLQ"
      },
      "outputs": [],
      "source": [
        "import re"
      ]
    },
    {
      "cell_type": "code",
      "execution_count": 23,
      "metadata": {
        "id": "3oJGlxmpRRgO"
      },
      "outputs": [],
      "source": [
        "reviews_df['text_token_re']=reviews_df['text_no_punct'].apply(lambda x:re.split('\\W+', x))"
      ]
    },
    {
      "cell_type": "markdown",
      "metadata": {
        "id": "dekvTBZ1i_uh"
      },
      "source": [
        "3.Removing Stop- words using NLTK"
      ]
    },
    {
      "cell_type": "code",
      "execution_count": 24,
      "metadata": {
        "colab": {
          "base_uri": "https://localhost:8080/"
        },
        "id": "-artCoYmR8Oj",
        "outputId": "2078a369-f872-4687-c837-28d82b644209"
      },
      "outputs": [
        {
          "output_type": "stream",
          "name": "stderr",
          "text": [
            "[nltk_data] Downloading package stopwords to /root/nltk_data...\n",
            "[nltk_data]   Unzipping corpora/stopwords.zip.\n"
          ]
        },
        {
          "output_type": "execute_result",
          "data": {
            "text/plain": [
              "True"
            ]
          },
          "metadata": {},
          "execution_count": 24
        }
      ],
      "source": [
        "import nltk \n",
        "from nltk.corpus import stopwords\n",
        "nltk.download('stopwords')"
      ]
    },
    {
      "cell_type": "code",
      "execution_count": 25,
      "metadata": {
        "id": "7LvHHK0GSMKN"
      },
      "outputs": [],
      "source": [
        "stopwords_Ar=nltk.corpus.stopwords.words('arabic')"
      ]
    },
    {
      "cell_type": "code",
      "execution_count": 26,
      "metadata": {
        "id": "zefu90N7sGHZ"
      },
      "outputs": [],
      "source": [
        "#stopwords_Ar"
      ]
    },
    {
      "cell_type": "code",
      "execution_count": 27,
      "metadata": {
        "id": "8cmPn6wfSRLW"
      },
      "outputs": [],
      "source": [
        "def remove_stopwords(s):\n",
        "    return [x for x in s if x not in stopwords_Ar]"
      ]
    },
    {
      "cell_type": "code",
      "execution_count": 28,
      "metadata": {
        "id": "dySr2HIRSUc8"
      },
      "outputs": [],
      "source": [
        "reviews_df['text_stopword']=reviews_df['text_token_re'].apply(lambda x:remove_stopwords(x))"
      ]
    },
    {
      "cell_type": "markdown",
      "metadata": {
        "id": "ZYDFJHDZjNH_"
      },
      "source": [
        "4.Stemming"
      ]
    },
    {
      "cell_type": "code",
      "execution_count": 29,
      "metadata": {
        "id": "oYsz4B-1Cto1"
      },
      "outputs": [],
      "source": [
        "import nltk\n",
        "from nltk.stem.isri import ISRIStemmer\n",
        "p_stemmer = ISRIStemmer()"
      ]
    },
    {
      "cell_type": "code",
      "execution_count": 30,
      "metadata": {
        "id": "tREtF51cNHnH"
      },
      "outputs": [],
      "source": [
        "def stem(s):\n",
        "  return [p_stemmer.stem(token) for token in s]"
      ]
    },
    {
      "cell_type": "code",
      "execution_count": 31,
      "metadata": {
        "id": "DfBkpt4w0c8B"
      },
      "outputs": [],
      "source": [
        "reviews_df['text_stems'] = reviews_df['text_stopword'].apply(lambda x: stem(x))"
      ]
    },
    {
      "cell_type": "markdown",
      "metadata": {
        "id": "lG_mhK2tjSN2"
      },
      "source": [
        "5.Lemmatization"
      ]
    },
    {
      "cell_type": "code",
      "execution_count": 32,
      "metadata": {
        "colab": {
          "base_uri": "https://localhost:8080/"
        },
        "id": "FSFULbZsQdxG",
        "outputId": "24233e6d-471a-41ed-f3e5-52ff58a7036c"
      },
      "outputs": [
        {
          "output_type": "stream",
          "name": "stdout",
          "text": [
            "Looking in indexes: https://pypi.org/simple, https://us-python.pkg.dev/colab-wheels/public/simple/\n",
            "Collecting qalsadi\n",
            "  Downloading qalsadi-0.4.6-py3-none-any.whl (256 kB)\n",
            "\u001b[2K     \u001b[90m━━━━━━━━━━━━━━━━━━━━━━━━━━━━━━━━━━━━━━━\u001b[0m \u001b[32m256.6/256.6 kB\u001b[0m \u001b[31m5.5 MB/s\u001b[0m eta \u001b[36m0:00:00\u001b[0m\n",
            "\u001b[?25hCollecting Arabic-Stopwords>=0.3 (from qalsadi)\n",
            "  Downloading Arabic_Stopwords-0.4.3-py3-none-any.whl (360 kB)\n",
            "\u001b[2K     \u001b[90m━━━━━━━━━━━━━━━━━━━━━━━━━━━━━━━━━━━━━━\u001b[0m \u001b[32m360.5/360.5 kB\u001b[0m \u001b[31m18.8 MB/s\u001b[0m eta \u001b[36m0:00:00\u001b[0m\n",
            "\u001b[?25hCollecting alyahmor>=0.1 (from qalsadi)\n",
            "  Downloading alyahmor-0.2-py3-none-any.whl (65 kB)\n",
            "\u001b[2K     \u001b[90m━━━━━━━━━━━━━━━━━━━━━━━━━━━━━━━━━━━━━━━━\u001b[0m \u001b[32m65.1/65.1 kB\u001b[0m \u001b[31m6.6 MB/s\u001b[0m eta \u001b[36m0:00:00\u001b[0m\n",
            "\u001b[?25hCollecting arramooz-pysqlite>=0.3 (from qalsadi)\n",
            "  Downloading arramooz_pysqlite-0.4.1-py3-none-any.whl (14.5 MB)\n",
            "\u001b[2K     \u001b[90m━━━━━━━━━━━━━━━━━━━━━━━━━━━━━━━━━━━━━━━━\u001b[0m \u001b[32m14.5/14.5 MB\u001b[0m \u001b[31m70.2 MB/s\u001b[0m eta \u001b[36m0:00:00\u001b[0m\n",
            "\u001b[?25hRequirement already satisfied: future>=0.16.0 in /usr/local/lib/python3.10/dist-packages (from qalsadi) (0.18.3)\n",
            "Collecting libqutrub>=1.2.3 (from qalsadi)\n",
            "  Downloading libqutrub-1.2.4.1-py3-none-any.whl (138 kB)\n",
            "\u001b[2K     \u001b[90m━━━━━━━━━━━━━━━━━━━━━━━━━━━━━━━━━━━━━━\u001b[0m \u001b[32m139.0/139.0 kB\u001b[0m \u001b[31m14.7 MB/s\u001b[0m eta \u001b[36m0:00:00\u001b[0m\n",
            "\u001b[?25hCollecting naftawayh>=0.3 (from qalsadi)\n",
            "  Downloading Naftawayh-0.4-py3-none-any.whl (332 kB)\n",
            "\u001b[2K     \u001b[90m━━━━━━━━━━━━━━━━━━━━━━━━━━━━━━━━━━━━━━━\u001b[0m \u001b[32m332.6/332.6 kB\u001b[0m \u001b[31m2.0 MB/s\u001b[0m eta \u001b[36m0:00:00\u001b[0m\n",
            "\u001b[?25hCollecting pickledb>=0.9.2 (from qalsadi)\n",
            "  Downloading pickleDB-0.9.2.tar.gz (3.7 kB)\n",
            "  Preparing metadata (setup.py) ... \u001b[?25l\u001b[?25hdone\n",
            "Collecting pyarabic>=0.6.7 (from qalsadi)\n",
            "  Downloading PyArabic-0.6.15-py3-none-any.whl (126 kB)\n",
            "\u001b[2K     \u001b[90m━━━━━━━━━━━━━━━━━━━━━━━━━━━━━━━━━━━━━━\u001b[0m \u001b[32m126.4/126.4 kB\u001b[0m \u001b[31m13.0 MB/s\u001b[0m eta \u001b[36m0:00:00\u001b[0m\n",
            "\u001b[?25hRequirement already satisfied: six>=1.10.0 in /usr/local/lib/python3.10/dist-packages (from qalsadi) (1.16.0)\n",
            "Collecting tashaphyne>=0.3.4.1 (from qalsadi)\n",
            "  Downloading Tashaphyne-0.3.6-py3-none-any.whl (251 kB)\n",
            "\u001b[2K     \u001b[90m━━━━━━━━━━━━━━━━━━━━━━━━━━━━━━━━━━━━━━\u001b[0m \u001b[32m251.5/251.5 kB\u001b[0m \u001b[31m18.5 MB/s\u001b[0m eta \u001b[36m0:00:00\u001b[0m\n",
            "\u001b[?25hBuilding wheels for collected packages: pickledb\n",
            "  Building wheel for pickledb (setup.py) ... \u001b[?25l\u001b[?25hdone\n",
            "  Created wheel for pickledb: filename=pickleDB-0.9.2-py3-none-any.whl size=4254 sha256=0f309bd89f6d1f23fe18e717174a32560d6d0c63e80d110e09383a3b02569e31\n",
            "  Stored in directory: /root/.cache/pip/wheels/31/99/ef/8bf37f0157e6423a373297de279351af04ad18c4136c3af121\n",
            "Successfully built pickledb\n",
            "Installing collected packages: pickledb, pyarabic, tashaphyne, libqutrub, arramooz-pysqlite, Arabic-Stopwords, naftawayh, alyahmor, qalsadi\n",
            "Successfully installed Arabic-Stopwords-0.4.3 alyahmor-0.2 arramooz-pysqlite-0.4.1 libqutrub-1.2.4.1 naftawayh-0.4 pickledb-0.9.2 pyarabic-0.6.15 qalsadi-0.4.6 tashaphyne-0.3.6\n"
          ]
        }
      ],
      "source": [
        "!pip install qalsadi"
      ]
    },
    {
      "cell_type": "code",
      "execution_count": 33,
      "metadata": {
        "id": "1JTJKfUwbCLE"
      },
      "outputs": [],
      "source": [
        "import qalsadi.lemmatizer"
      ]
    },
    {
      "cell_type": "code",
      "execution_count": 34,
      "metadata": {
        "colab": {
          "base_uri": "https://localhost:8080/",
          "height": 35
        },
        "id": "QqeLTb39bCe1",
        "outputId": "6b8cd295-1c58-4be5-eec4-dfb5ab30161f"
      },
      "outputs": [
        {
          "output_type": "execute_result",
          "data": {
            "text/plain": [
              "''"
            ],
            "application/vnd.google.colaboratory.intrinsic+json": {
              "type": "string"
            }
          },
          "metadata": {},
          "execution_count": 34
        }
      ],
      "source": [
        "lemmer = qalsadi.lemmatizer.Lemmatizer()\n",
        "lemmer.lemmatize(\"\")"
      ]
    },
    {
      "cell_type": "code",
      "execution_count": 35,
      "metadata": {
        "id": "ROGAE1yxbb0n"
      },
      "outputs": [],
      "source": [
        "def lemtaization(s):\n",
        "  return [lemmer.lemmatize(token) for token in s]"
      ]
    },
    {
      "cell_type": "code",
      "execution_count": 36,
      "metadata": {
        "id": "pevvZNeff0VV"
      },
      "outputs": [],
      "source": [
        "reviews_df['text_lemmatize'] = reviews_df['text_stopword'].apply(lambda x: lemtaization(x))"
      ]
    },
    {
      "cell_type": "code",
      "execution_count": 37,
      "metadata": {
        "id": "SSLai_BW2lJ6"
      },
      "outputs": [],
      "source": [
        "def join_text(set):\n",
        "    text = \"\"\n",
        "    for word in set:\n",
        "        text += word + \" \"\n",
        "    return text\n",
        "reviews_df['text_cleaned'] = reviews_df['text_stems'].apply(lambda x: join_text(x))"
      ]
    },
    {
      "cell_type": "markdown",
      "metadata": {
        "id": "E6Hid9k8Xb0-"
      },
      "source": [
        "3.Vectorizing by using Count Vectorization"
      ]
    },
    {
      "cell_type": "code",
      "execution_count": 38,
      "metadata": {
        "colab": {
          "base_uri": "https://localhost:8080/",
          "height": 86
        },
        "id": "qORuA8j6XdQO",
        "outputId": "eb5b45f2-497e-4d46-ff5d-5b5f062d38fe"
      },
      "outputs": [
        {
          "output_type": "execute_result",
          "data": {
            "text/plain": [
              "\"from sklearn .feature_extraction.text import  CountVectorizer\\n\\nmax_features = 1500\\ncount_vector = CountVectorizer(max_features = max_features)  \\nfeatures_cv = count_vector.fit_transform(reviews_df['text_cleaned'])\\n\\n\\nprint(features_cv.shape)\\nprint('Sparse Matrix :ln', features_cv)\\nimport pandas as pd\\nfeatures_cv = pd.DataFrame(features_cv.toarray())\\nfeatures_cv.columns = count_vector.get_feature_names_out()\""
            ],
            "application/vnd.google.colaboratory.intrinsic+json": {
              "type": "string"
            }
          },
          "metadata": {},
          "execution_count": 38
        }
      ],
      "source": [
        "'''from sklearn .feature_extraction.text import  CountVectorizer\n",
        "\n",
        "max_features = 1500\n",
        "count_vector = CountVectorizer(max_features = max_features)  \n",
        "features_cv = count_vector.fit_transform(reviews_df['text_cleaned'])\n",
        "\n",
        "\n",
        "print(features_cv.shape)\n",
        "print('Sparse Matrix :ln', features_cv)\n",
        "import pandas as pd\n",
        "features_cv = pd.DataFrame(features_cv.toarray())\n",
        "features_cv.columns = count_vector.get_feature_names_out()'''"
      ]
    },
    {
      "cell_type": "code",
      "execution_count": 39,
      "metadata": {
        "id": "xLD9JrCseXx1"
      },
      "outputs": [],
      "source": [
        "#features_cv.info()"
      ]
    },
    {
      "cell_type": "code",
      "execution_count": 40,
      "metadata": {
        "id": "p3ZZlyj7XeDy"
      },
      "outputs": [],
      "source": [
        "#print(\"most using {} words: {} \".format(max_features, count_vector.get_feature_names_out()))"
      ]
    },
    {
      "cell_type": "code",
      "execution_count": 41,
      "metadata": {
        "id": "za8hBxoBXk0v"
      },
      "outputs": [],
      "source": [
        "#print(count_vector.vocabulary_)"
      ]
    },
    {
      "cell_type": "markdown",
      "metadata": {
        "id": "0m2z2PIk54PZ"
      },
      "source": [
        "Word Embeddings + tf/idf model"
      ]
    },
    {
      "cell_type": "code",
      "execution_count": 42,
      "metadata": {
        "colab": {
          "base_uri": "https://localhost:8080/"
        },
        "id": "SnO88_2KJt5x",
        "outputId": "8a9dbd3e-60df-43f6-dc5c-906ac7ef3644"
      },
      "outputs": [
        {
          "output_type": "stream",
          "name": "stdout",
          "text": [
            "Looking in indexes: https://pypi.org/simple, https://us-python.pkg.dev/colab-wheels/public/simple/\n",
            "Collecting keras_preprocessing\n",
            "  Downloading Keras_Preprocessing-1.1.2-py2.py3-none-any.whl (42 kB)\n",
            "\u001b[2K     \u001b[90m━━━━━━━━━━━━━━━━━━━━━━━━━━━━━━━━━━━━━━━━\u001b[0m \u001b[32m42.6/42.6 kB\u001b[0m \u001b[31m1.6 MB/s\u001b[0m eta \u001b[36m0:00:00\u001b[0m\n",
            "\u001b[?25hRequirement already satisfied: numpy>=1.9.1 in /usr/local/lib/python3.10/dist-packages (from keras_preprocessing) (1.22.4)\n",
            "Requirement already satisfied: six>=1.9.0 in /usr/local/lib/python3.10/dist-packages (from keras_preprocessing) (1.16.0)\n",
            "Installing collected packages: keras_preprocessing\n",
            "Successfully installed keras_preprocessing-1.1.2\n"
          ]
        }
      ],
      "source": [
        "pip install keras_preprocessing"
      ]
    },
    {
      "cell_type": "code",
      "execution_count": 43,
      "metadata": {
        "id": "zN8TP1qiH7pz"
      },
      "outputs": [],
      "source": [
        "import keras_preprocessing\n",
        "from keras.preprocessing.text import Tokenizer\n",
        "from keras_preprocessing.sequence import pad_sequences\n",
        "from keras.models import Sequential\n",
        "from keras.layers import Embedding, Dense, Flatten, Input\n",
        "\n",
        "import re\n",
        "import collections\n",
        "import matplotlib.pyplot as plt\n",
        "from pathlib import Path\n",
        "\n",
        "# Packages for data preparation\n",
        "from sklearn.model_selection import train_test_split\n",
        "from keras.utils.np_utils import to_categorical\n",
        "from sklearn.preprocessing import LabelEncoder\n",
        "\n",
        "# Packages for modeling\n",
        "from keras import models\n",
        "from keras import layers\n",
        "from keras import regularizers"
      ]
    },
    {
      "cell_type": "code",
      "execution_count": 44,
      "metadata": {
        "id": "7TSQhQGSfFvN"
      },
      "outputs": [],
      "source": [
        "NB_WORDS = 14000  # Parameter indicating the number of words we'll put in the dictionary\n",
        "VAL_SIZE = 1000  # Size of the validation set\n",
        "NB_START_EPOCHS = 20  # Number of epochs we usually start to train with\n",
        "MAX_LEN = 24\n",
        "BATCH_SIZE = 512  # Size of the batches used in the mini-batch gradient descent\n",
        "GLOVE_DIM = 50  # Number of dimensions of the GloVe word embeddings"
      ]
    },
    {
      "cell_type": "code",
      "execution_count": 45,
      "metadata": {
        "id": "WNyu5EqIff_Z"
      },
      "outputs": [],
      "source": [
        "def deep_model(model, X_train, y_train, X_valid, y_valid):\n",
        "    '''\n",
        "    Function to train a multi-class model. The number of epochs and \n",
        "    batch_size are set by the constants at the top of the\n",
        "    notebook. \n",
        "    \n",
        "    Parameters:\n",
        "        model : model with the chosen architecture\n",
        "        X_train : training features\n",
        "        y_train : training target\n",
        "        X_valid : validation features\n",
        "        Y_valid : validation target\n",
        "    Output:\n",
        "        model training history\n",
        "    '''\n",
        "    model.compile(optimizer='rmsprop'\n",
        "                  , loss='categorical_crossentropy'\n",
        "                  , metrics=['accuracy'])\n",
        "    \n",
        "    history = model.fit(X_train\n",
        "                       , y_train\n",
        "                       , epochs=NB_START_EPOCHS\n",
        "                       , batch_size=BATCH_SIZE\n",
        "                       , validation_data=(X_valid, y_valid)\n",
        "                       , verbose=1)\n",
        "    return history\n",
        "\n",
        "\n",
        "def test_model(model, X_train, y_train, X_test, y_test, epoch_stop):\n",
        "    '''\n",
        "    Function to test the model on new data after training it\n",
        "    on the full training data with the optimal number of epochs.\n",
        "    \n",
        "    Parameters:\n",
        "        model : trained model\n",
        "        X_train : training features\n",
        "        y_train : training target\n",
        "        X_test : test features\n",
        "        y_test : test target\n",
        "        epochs : optimal number of epochs\n",
        "    Output:\n",
        "        test accuracy and test loss\n",
        "    '''\n",
        "    model.fit(X_train\n",
        "              , y_train\n",
        "              , epochs=epoch_stop\n",
        "              , batch_size=BATCH_SIZE\n",
        "              , verbose=0)\n",
        "    results = model.evaluate(X_test, y_test)\n",
        "    \n",
        "    return results\n",
        " "
      ]
    },
    {
      "cell_type": "code",
      "execution_count": 46,
      "metadata": {
        "id": "Hk6SWw4Ef9BH"
      },
      "outputs": [],
      "source": [
        "X_train, X_test, y_train, y_test = train_test_split(reviews_df.text_cleaned, reviews_df.label, test_size=0.25, random_state=37)\n",
        "assert X_train.shape[0] == y_train.shape[0]\n",
        "assert X_test.shape[0] == y_test.shape[0]"
      ]
    },
    {
      "cell_type": "code",
      "execution_count": 47,
      "metadata": {
        "id": "AU7yDVjPggWb"
      },
      "outputs": [],
      "source": [
        "from sklearn.feature_extraction.text import TfidfVectorizer\n",
        "tk = Tokenizer(num_words=NB_WORDS,\n",
        "               filters='!\"#$%&()*+,-./:;<=>?@[\\\\]^_`{|}~\\t\\n',\n",
        "               lower=True,\n",
        "               split=\" \")\n",
        "tk.fit_on_texts(X_train)\n",
        "\n",
        "X_train_seq = tk.texts_to_sequences(X_train)\n",
        "X_test_seq = tk.texts_to_sequences(X_test)"
      ]
    },
    {
      "cell_type": "code",
      "execution_count": 48,
      "metadata": {
        "id": "ADl4w_FHL19Q"
      },
      "outputs": [],
      "source": [
        "# Create the TF-IDF features\n",
        "tfidf = TfidfVectorizer()\n",
        "tfidf_features = tfidf.fit_transform(X_train)\n",
        "tfidf_features_test = tfidf.transform(X_test)\n"
      ]
    },
    {
      "cell_type": "code",
      "execution_count": 49,
      "metadata": {
        "id": "rnGIKfbvgkRM"
      },
      "outputs": [],
      "source": [
        "seq_lengths = X_train.apply(lambda x: len(x.split(' ')))"
      ]
    },
    {
      "cell_type": "code",
      "execution_count": 50,
      "metadata": {
        "id": "QmruY_SVgoux"
      },
      "outputs": [],
      "source": [
        "'''  \n",
        "pad the sequences in X_train_seq with zeros (0) or truncates them \n",
        "  to ensure that all sequences have the same length\n",
        "'''\n",
        "\n",
        "X_train_seq_trunc = pad_sequences(X_train_seq, maxlen=MAX_LEN)\n",
        "X_test_seq_trunc = pad_sequences(X_test_seq, maxlen=MAX_LEN)"
      ]
    },
    {
      "cell_type": "code",
      "execution_count": 51,
      "metadata": {
        "id": "ufDH3fjlzx0J"
      },
      "outputs": [],
      "source": [
        "# Concatenate the TF-IDF features with the sequences of integers horizontally\n",
        "#X_train_seq_trunc = np.hstack([tfidf_features.toarray(), X_train_seq_trunc])\n",
        "#X_test_seq_trunc = np.hstack([tfidf_features_test.toarray(), X_test_seq_trunc])"
      ]
    },
    {
      "cell_type": "code",
      "execution_count": 52,
      "metadata": {
        "id": "NvB5Acyagt_h"
      },
      "outputs": [],
      "source": [
        "le = LabelEncoder()\n",
        "y_train_le = le.fit_transform(y_train)\n",
        "y_test_le = le.transform(y_test)\n",
        "y_train_oh = to_categorical(y_train_le)\n",
        "y_test_oh = to_categorical(y_test_le)"
      ]
    },
    {
      "cell_type": "code",
      "execution_count": 53,
      "metadata": {
        "id": "539qe48ogyYj"
      },
      "outputs": [],
      "source": [
        "X_train_emb, X_valid_emb, y_train_emb, y_valid_emb = train_test_split(X_train_seq_trunc, y_train_oh, test_size=0.25, random_state=37)\n",
        "\n",
        "assert X_valid_emb.shape[0] == y_valid_emb.shape[0]\n",
        "assert X_train_emb.shape[0] == y_train_emb.shape[0]\n"
      ]
    },
    {
      "cell_type": "code",
      "execution_count": 54,
      "metadata": {
        "id": "WzL2AvGgg3K7"
      },
      "outputs": [],
      "source": [
        "input_shape = X_train_seq_trunc.shape[1]\n",
        "emb_model = models.Sequential()\n",
        "emb_model.add(layers.Embedding(NB_WORDS, 8, input_length=input_shape))\n",
        "emb_model.add(layers.Flatten())\n",
        "emb_model.add(layers.Dense(3, activation='softmax'))"
      ]
    },
    {
      "cell_type": "code",
      "execution_count": 55,
      "metadata": {
        "colab": {
          "base_uri": "https://localhost:8080/"
        },
        "id": "q5ghvFO1g-3y",
        "outputId": "482602f3-1482-44fe-ce88-14169b82dc5b"
      },
      "outputs": [
        {
          "output_type": "stream",
          "name": "stdout",
          "text": [
            "Epoch 1/20\n",
            "2/2 [==============================] - 1s 270ms/step - loss: 1.0979 - accuracy: 0.3397 - val_loss: 1.0956 - val_accuracy: 0.3886\n",
            "Epoch 2/20\n",
            "2/2 [==============================] - 0s 49ms/step - loss: 1.0896 - accuracy: 0.4281 - val_loss: 1.0953 - val_accuracy: 0.3523\n",
            "Epoch 3/20\n",
            "2/2 [==============================] - 0s 40ms/step - loss: 1.0831 - accuracy: 0.5043 - val_loss: 1.0951 - val_accuracy: 0.3679\n",
            "Epoch 4/20\n",
            "2/2 [==============================] - 0s 48ms/step - loss: 1.0776 - accuracy: 0.5667 - val_loss: 1.0951 - val_accuracy: 0.3679\n",
            "Epoch 5/20\n",
            "2/2 [==============================] - 0s 89ms/step - loss: 1.0722 - accuracy: 0.6066 - val_loss: 1.0948 - val_accuracy: 0.3679\n",
            "Epoch 6/20\n",
            "2/2 [==============================] - 0s 75ms/step - loss: 1.0669 - accuracy: 0.6534 - val_loss: 1.0947 - val_accuracy: 0.3782\n",
            "Epoch 7/20\n",
            "2/2 [==============================] - 0s 76ms/step - loss: 1.0618 - accuracy: 0.6932 - val_loss: 1.0946 - val_accuracy: 0.3782\n",
            "Epoch 8/20\n",
            "2/2 [==============================] - 0s 74ms/step - loss: 1.0568 - accuracy: 0.7262 - val_loss: 1.0946 - val_accuracy: 0.3575\n",
            "Epoch 9/20\n",
            "2/2 [==============================] - 0s 58ms/step - loss: 1.0517 - accuracy: 0.7470 - val_loss: 1.0945 - val_accuracy: 0.3627\n",
            "Epoch 10/20\n",
            "2/2 [==============================] - 0s 58ms/step - loss: 1.0468 - accuracy: 0.7695 - val_loss: 1.0947 - val_accuracy: 0.3627\n",
            "Epoch 11/20\n",
            "2/2 [==============================] - 0s 63ms/step - loss: 1.0417 - accuracy: 0.7764 - val_loss: 1.0949 - val_accuracy: 0.3679\n",
            "Epoch 12/20\n",
            "2/2 [==============================] - 0s 48ms/step - loss: 1.0364 - accuracy: 0.8059 - val_loss: 1.0947 - val_accuracy: 0.3731\n",
            "Epoch 13/20\n",
            "2/2 [==============================] - 0s 55ms/step - loss: 1.0311 - accuracy: 0.8163 - val_loss: 1.0946 - val_accuracy: 0.3731\n",
            "Epoch 14/20\n",
            "2/2 [==============================] - 0s 57ms/step - loss: 1.0258 - accuracy: 0.8267 - val_loss: 1.0948 - val_accuracy: 0.3679\n",
            "Epoch 15/20\n",
            "2/2 [==============================] - 0s 39ms/step - loss: 1.0203 - accuracy: 0.8354 - val_loss: 1.0947 - val_accuracy: 0.3731\n",
            "Epoch 16/20\n",
            "2/2 [==============================] - 0s 38ms/step - loss: 1.0148 - accuracy: 0.8544 - val_loss: 1.0943 - val_accuracy: 0.3627\n",
            "Epoch 17/20\n",
            "2/2 [==============================] - 0s 55ms/step - loss: 1.0091 - accuracy: 0.8596 - val_loss: 1.0940 - val_accuracy: 0.3575\n",
            "Epoch 18/20\n",
            "2/2 [==============================] - 0s 70ms/step - loss: 1.0033 - accuracy: 0.8631 - val_loss: 1.0941 - val_accuracy: 0.3575\n",
            "Epoch 19/20\n",
            "2/2 [==============================] - 0s 77ms/step - loss: 0.9975 - accuracy: 0.8787 - val_loss: 1.0939 - val_accuracy: 0.3679\n",
            "Epoch 20/20\n",
            "2/2 [==============================] - 0s 75ms/step - loss: 0.9915 - accuracy: 0.8873 - val_loss: 1.0940 - val_accuracy: 0.3679\n"
          ]
        }
      ],
      "source": [
        "emb_history = deep_model(emb_model, X_train_emb, y_train_emb, X_valid_emb, y_valid_emb)"
      ]
    },
    {
      "cell_type": "code",
      "execution_count": 56,
      "metadata": {
        "colab": {
          "base_uri": "https://localhost:8080/"
        },
        "id": "VI4L5pz0hEtn",
        "outputId": "a2c0d73e-6d89-41e0-bd4b-d7ad19328315"
      },
      "outputs": [
        {
          "output_type": "stream",
          "name": "stdout",
          "text": [
            "9/9 [==============================] - 0s 3ms/step - loss: 1.1003 - accuracy: 0.3502\n",
            "/n\n",
            "Test accuracy of word embeddings model: 35.02%\n"
          ]
        }
      ],
      "source": [
        "emb_results = test_model(emb_model, X_train_seq_trunc, y_train_oh, X_test_seq_trunc, y_test_oh, 6)\n",
        "print('/n')\n",
        "print('Test accuracy of word embeddings model: {0:.2f}%'.format(emb_results[1]*100))"
      ]
    },
    {
      "cell_type": "markdown",
      "metadata": {
        "id": "ubvoN2ojQZRm"
      },
      "source": [
        "TF-IDF"
      ]
    },
    {
      "cell_type": "markdown",
      "metadata": {
        "id": "miVaqFIBpUzW"
      },
      "source": [
        "N-gram count + tf/idf features + splitting data for training"
      ]
    },
    {
      "cell_type": "code",
      "execution_count": 57,
      "metadata": {
        "id": "Ihm9cB2i8vu2"
      },
      "outputs": [],
      "source": [
        "from sklearn.model_selection import train_test_split\n",
        "from sklearn.ensemble import RandomForestClassifier\n",
        "from sklearn.naive_bayes import MultinomialNB\n",
        "from sklearn.svm import SVC"
      ]
    },
    {
      "cell_type": "code",
      "execution_count": 58,
      "metadata": {
        "id": "8vUuknbfzlOs"
      },
      "outputs": [],
      "source": [
        "# Count vector\n",
        "from sklearn .feature_extraction.text import  CountVectorizer\n",
        "count_vector = CountVectorizer()  \n",
        "features_cv = count_vector.fit_transform(reviews_df['text_cleaned'])\n",
        "features_cv = pd.DataFrame(features_cv.toarray())\n"
      ]
    },
    {
      "cell_type": "code",
      "source": [
        "print(features_cv)"
      ],
      "metadata": {
        "colab": {
          "base_uri": "https://localhost:8080/"
        },
        "id": "_c4BO9lxrwAk",
        "outputId": "bf76913d-5fbb-48f7-ffbe-3cb65f731e84"
      },
      "execution_count": 59,
      "outputs": [
        {
          "output_type": "stream",
          "name": "stdout",
          "text": [
            "      0     1     2     3     4     5     6     7     8     9     ...  7636  \\\n",
            "0        0     0     0     0     0     0     0     0     0     0  ...     0   \n",
            "1        0     0     0     0     0     0     0     0     0     0  ...     0   \n",
            "2        0     0     0     0     0     0     0     0     0     0  ...     0   \n",
            "3        0     0     0     0     0     0     0     0     0     0  ...     0   \n",
            "4        0     0     0     0     0     0     0     0     0     0  ...     0   \n",
            "...    ...   ...   ...   ...   ...   ...   ...   ...   ...   ...  ...   ...   \n",
            "1022     0     0     0     0     0     0     0     0     0     0  ...     0   \n",
            "1023     0     0     0     0     0     0     0     0     0     0  ...     0   \n",
            "1024     0     0     0     0     0     0     0     0     0     0  ...     0   \n",
            "1025     0     0     0     0     0     0     0     0     0     0  ...     0   \n",
            "1026     0     0     0     0     0     0     0     0     0     0  ...     0   \n",
            "\n",
            "      7637  7638  7639  7640  7641  7642  7643  7644  7645  \n",
            "0        0     0     0     0     0     0     0     0     0  \n",
            "1        0     0     0     0     0     0     0     0     0  \n",
            "2        0     0     0     0     0     0     0     0     0  \n",
            "3        0     0     0     0     0     0     0     0     0  \n",
            "4        0     0     0     0     0     0     0     0     0  \n",
            "...    ...   ...   ...   ...   ...   ...   ...   ...   ...  \n",
            "1022     0     0     0     0     0     0     0     0     0  \n",
            "1023     0     0     0     0     0     0     0     0     0  \n",
            "1024     0     0     0     0     0     0     0     0     0  \n",
            "1025     0     0     0     0     0     0     0     0     0  \n",
            "1026     0     0     0     0     0     0     0     0     0  \n",
            "\n",
            "[1027 rows x 7646 columns]\n"
          ]
        }
      ]
    },
    {
      "cell_type": "code",
      "execution_count": 60,
      "metadata": {
        "id": "Kxb2Drq5znYa"
      },
      "outputs": [],
      "source": [
        "## tf/idf vector\n",
        "from sklearn.feature_extraction.text import TfidfVectorizer\n",
        "tfidf = TfidfVectorizer()\n",
        "features_tfidf = tfidf.fit_transform(reviews_df['text_cleaned'])\n",
        "features_tfidf = pd.DataFrame(features_tfidf.toarray())"
      ]
    },
    {
      "cell_type": "code",
      "execution_count": 61,
      "metadata": {
        "id": "1BJ_jda5FXty"
      },
      "outputs": [],
      "source": [
        "# remove all unnecessery columns\n",
        "target = reviews_df['label']\n",
        "reviews_df = df.drop(['label','text'], inplace=True, axis=1)"
      ]
    },
    {
      "cell_type": "code",
      "execution_count": 62,
      "metadata": {
        "id": "PbvJlaOd3ccy"
      },
      "outputs": [],
      "source": [
        "## concatenate the two vectors\n",
        "reviews_df = pd.concat([reviews_df,pd.DataFrame(features_cv)], axis = 1)\n",
        "reviews_df = pd.concat([reviews_df,pd.DataFrame(features_tfidf)], axis = 1)"
      ]
    },
    {
      "cell_type": "code",
      "execution_count": 63,
      "metadata": {
        "id": "6a3wDg0GOG8f"
      },
      "outputs": [],
      "source": [
        "##split data for training test size 25%\n",
        "X_train, X_test, y_train, y_test = train_test_split(reviews_df, target, test_size=0.25)"
      ]
    },
    {
      "cell_type": "markdown",
      "metadata": {
        "id": "cd5SIU9Mpa-8"
      },
      "source": [
        "Machine learning using random forest, naieve bays, and support vector machine."
      ]
    },
    {
      "cell_type": "code",
      "execution_count": 64,
      "metadata": {
        "id": "Jb04HhhNFnme",
        "colab": {
          "base_uri": "https://localhost:8080/"
        },
        "outputId": "376b04ed-2ddf-46c6-e050-6d8cbc736c06"
      },
      "outputs": [
        {
          "output_type": "stream",
          "name": "stdout",
          "text": [
            "Accuracy: {0:.2f}% 44.3579766536965\n"
          ]
        }
      ],
      "source": [
        "# Train the model\n",
        "model = MultinomialNB()\n",
        "model.fit(X_train, y_train)\n",
        "\n",
        "# Evaluate the model on the test set\n",
        "accuracy = model.score(X_test, y_test)\n",
        "print('Accuracy: {0:.2f}%', (accuracy*100))"
      ]
    },
    {
      "cell_type": "code",
      "execution_count": 65,
      "metadata": {
        "id": "w2zGzVpjSUW0",
        "colab": {
          "base_uri": "https://localhost:8080/"
        },
        "outputId": "ac0049a9-6dee-4257-e758-006f070abde2"
      },
      "outputs": [
        {
          "output_type": "stream",
          "name": "stdout",
          "text": [
            "Accuracy: {0:.2f}% 40.46692607003891\n"
          ]
        }
      ],
      "source": [
        "# Train the model\n",
        "model = RandomForestClassifier(n_jobs=-1)\n",
        "model.fit(X_train, y_train)\n",
        "\n",
        "# Evaluate the model on the test set\n",
        "accuracy = model.score(X_test, y_test)\n",
        "print('Accuracy: {0:.2f}%', (accuracy*100))"
      ]
    },
    {
      "cell_type": "code",
      "execution_count": 66,
      "metadata": {
        "id": "tohkHxE1JObs",
        "colab": {
          "base_uri": "https://localhost:8080/"
        },
        "outputId": "376ec586-c647-4675-879b-1c6c47277be2"
      },
      "outputs": [
        {
          "output_type": "stream",
          "name": "stdout",
          "text": [
            "Accuracy: {0:.2f}% 34.24124513618677\n"
          ]
        }
      ],
      "source": [
        "# Train the model\n",
        "model = SVC()\n",
        "model.fit(X_train, y_train)\n",
        "\n",
        "# Evaluate the model on the test set\n",
        "accuracy = model.score(X_test, y_test)\n",
        "print('Accuracy: {0:.2f}%', (accuracy*100))"
      ]
    }
  ],
  "metadata": {
    "colab": {
      "provenance": [],
      "include_colab_link": true
    },
    "kernelspec": {
      "display_name": "Python 3",
      "name": "python3"
    },
    "language_info": {
      "name": "python"
    }
  },
  "nbformat": 4,
  "nbformat_minor": 0
}